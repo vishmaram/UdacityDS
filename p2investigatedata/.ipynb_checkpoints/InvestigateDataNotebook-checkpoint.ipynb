{
 "cells": [
  {
   "cell_type": "code",
   "execution_count": 11,
   "metadata": {
    "collapsed": false
   },
   "outputs": [
    {
     "name": "stdout",
     "output_type": "stream",
     "text": [
      "enrollment:  {u'status': u'canceled', u'is_udacity': u'True', u'is_canceled': u'True', u'join_date': u'2014-11-10', u'account_key': u'448', u'cancel_date': u'2015-01-14', u'days_to_cancel': u'65'}\n",
      "\n",
      " daily_engagement :  {u'lessons_completed': u'0.0', u'num_courses_visited': u'1.0', u'total_minutes_visited': u'11.6793745', u'projects_completed': u'0.0', u'acct': u'0', u'utc_date': u'2015-01-09'}\n",
      "\n",
      " project_submissions:  {u'lesson_key': u'3176718735', u'processing_state': u'EVALUATED', u'account_key': u'256', u'assigned_rating': u'UNGRADED', u'completion_date': u'2015-01-16', u'creation_date': u'2015-01-14'}\n"
     ]
    }
   ],
   "source": [
    "import os\n",
    "os.chdir('/Users/vish/Documents/gitrepos/p2investigatedata')\n",
    "\n",
    "from csvReader import *\n",
    "from fixDataType import *\n",
    "from setOperations import *\n",
    "from customMethods import *\n",
    "from listAndDictOperations import *\n",
    "import numpy as np\n",
    "\n",
    "\n",
    "# Option 1: Csv can be list of lists\n",
    "# Option2: Csv can be dictionariy\n",
    "\n",
    "enrollments_filename = 'data/enrollments.csv'\n",
    "engagement_filename = 'data/daily_engagement.csv' \n",
    "submissions_filename = 'data/project_submissions.csv' \n",
    "\n",
    "# reading csv files\n",
    "enrollments = read_csv(enrollments_filename)\n",
    "daily_engagement = read_csv(engagement_filename)\n",
    "project_submissions = read_csv(submissions_filename)\n",
    "\n",
    "print \"enrollment: \",enrollments[0]\n",
    "print \"\\n daily_engagement : \",daily_engagement[0]\n",
    "print \"\\n project_submissions: \", project_submissions[0]"
   ]
  },
  {
   "cell_type": "code",
   "execution_count": 12,
   "metadata": {
    "collapsed": false
   },
   "outputs": [
    {
     "name": "stdout",
     "output_type": "stream",
     "text": [
      "enrollment:  {u'status': u'canceled', u'is_udacity': True, u'is_canceled': True, u'join_date': datetime.datetime(2014, 11, 10, 0, 0), u'account_key': 448, u'cancel_date': datetime.datetime(2015, 1, 14, 0, 0), u'days_to_cancel': 65}\n",
      "\n",
      " daily_engagement :  {u'lessons_completed': 0, u'num_courses_visited': 1, u'total_minutes_visited': 11.6793745, u'projects_completed': 0, 'account_key': 0, u'utc_date': datetime.datetime(2015, 1, 9, 0, 0)}\n",
      "\n",
      " project_submissions:  {u'lesson_key': 3176718735, u'processing_state': u'EVALUATED', u'account_key': 256, u'assigned_rating': u'UNGRADED', u'completion_date': datetime.datetime(2015, 1, 16, 0, 0), u'creation_date': datetime.datetime(2015, 1, 14, 0, 0)}\n",
      "\n",
      "Number of enrollment records :  1640\n",
      "\n",
      "Number of daily engagement records :  136240\n",
      "\n",
      "Number of project submissions records :  3642\n"
     ]
    }
   ],
   "source": [
    "for enrollment in enrollments:\n",
    "    enrollment['is_canceled'] = enrollment['is_canceled'] == 'True'\n",
    "    enrollment['is_udacity'] = enrollment['is_udacity'] == 'True'\n",
    "    enrollment['join_date'] = parse_date(enrollment['join_date'])\n",
    "    enrollment['cancel_date'] = parse_date(enrollment['cancel_date'])\n",
    "    enrollment['account_key'] = parse_maybe_int(enrollment['account_key'])\n",
    "    enrollment['days_to_cancel'] = parse_maybe_int(enrollment['days_to_cancel'])\n",
    "\n",
    "    \n",
    "for engagement in daily_engagement:\n",
    "   engagement['lessons_completed'] = int(float(engagement['lessons_completed']))\n",
    "   engagement['num_courses_visited'] = int(float(engagement['num_courses_visited']))\n",
    "   engagement['total_minutes_visited'] = float(engagement['total_minutes_visited'])\n",
    "   engagement['projects_completed'] = int(float(engagement['projects_completed']))\n",
    "   engagement['acct'] = int(engagement['acct'])\n",
    "   engagement['utc_date'] = parse_date(engagement['utc_date'])   \n",
    "   \n",
    "for submission in project_submissions:\n",
    "   submission['account_key'] = int(submission['account_key'])\n",
    "   submission['lesson_key'] = int(submission['lesson_key'])\n",
    "   submission['completion_date'] = parse_date(submission['completion_date']) \n",
    "   submission['creation_date'] = parse_date(submission['creation_date'])\n",
    "   \n",
    "   # adding a new key account key and value same as 'acct' and pop the 'acct'\n",
    "# from the dictionary\n",
    "for engagement in daily_engagement:\n",
    "   engagement['account_key'] = int(engagement['acct'])\n",
    "   engagement.pop('acct',None)\n",
    "\n",
    "print \"enrollment: \",enrollments[0]\n",
    "print \"\\n daily_engagement : \",daily_engagement[0]\n",
    "print \"\\n project_submissions: \", project_submissions[0]\n",
    "\n",
    "print \"\\nNumber of enrollment records : \" , len(enrollments)\n",
    "print \"\\nNumber of daily engagement records : \" , len(daily_engagement)\n",
    "print \"\\nNumber of project submissions records : \" , len(project_submissions)"
   ]
  },
  {
   "cell_type": "code",
   "execution_count": 13,
   "metadata": {
    "collapsed": false
   },
   "outputs": [
    {
     "name": "stdout",
     "output_type": "stream",
     "text": [
      "\n",
      " Unique student keys in enrollments :  1302\n",
      "\n",
      " Unique student keys in daily engement :  1237\n",
      "\n",
      " Unique student keys in project submissions :  743\n"
     ]
    }
   ],
   "source": [
    "eSet = get_unique_set(enrollments,'account_key')\n",
    "deSet =  get_unique_set(daily_engagement,'account_key')\n",
    "psSet =  get_unique_set(project_submissions,'account_key')\n",
    "\n",
    "print \"\\n Unique student keys in enrollments : \", len(eSet)\n",
    "print \"\\n Unique student keys in daily engement : \", len(deSet)\n",
    "print \"\\n Unique student keys in project submissions : \", len(psSet)"
   ]
  },
  {
   "cell_type": "code",
   "execution_count": 14,
   "metadata": {
    "collapsed": false
   },
   "outputs": [
    {
     "name": "stdout",
     "output_type": "stream",
     "text": [
      "\n",
      "Number of students with missed daily engagement records : 65\n",
      "\n",
      " Number of students with missed daily engagement records and days to cancel is not zero :  3\n"
     ]
    }
   ],
   "source": [
    "#Enrollment keys for missing daily engagement records\n",
    "acct_keys_set_missing_de = get_key_set_not_in(eSet,deSet)\n",
    "\n",
    "print \"\\nNumber of students with missed daily engagement records :\", len(acct_keys_set_missing_de)\n",
    "\n",
    "missed_enrollment_records = filter_data_with_keys(enrollments,'account_key',acct_keys_set_missing_de)\n",
    "\n",
    "# some employee in the missed_enrollment records have same enrollment and cancel date or datys to cancel is not zero\n",
    "\n",
    "missed_enrollment_records_days_to_cancel_is_not_zero = list()\n",
    "for enrollment in missed_enrollment_records : \n",
    "    if enrollment['days_to_cancel'] != 0:\n",
    "        missed_enrollment_records_days_to_cancel_is_not_zero.append(enrollment)\n",
    "\n",
    "print \"\\n Number of students with missed daily engagement records and days to cancel is not zero : \", len(missed_enrollment_records_days_to_cancel_is_not_zero)"
   ]
  },
  {
   "cell_type": "code",
   "execution_count": 15,
   "metadata": {
    "collapsed": false
   },
   "outputs": [
    {
     "name": "stdout",
     "output_type": "stream",
     "text": [
      "\n",
      "Number of original enrollment records :  1640\n",
      "\n",
      "Number of  new enrollment records :  1622\n"
     ]
    }
   ],
   "source": [
    "# all the records in missed_enrollement_days_to_cancel_is_not_zero are the test records added by the udacity\n",
    "#this is identified by the field is_udacity = false\n",
    "\n",
    "udacity_test_accounts = get_udacity_test_account_set(enrollments)\n",
    "\n",
    "non_udacity_enrollments = remove_udacity_test_accounts(enrollments,udacity_test_accounts)\n",
    "non_udacity_daily_engagements = remove_udacity_test_accounts(daily_engagement,udacity_test_accounts)\n",
    "non_udacity_project_submissions = remove_udacity_test_accounts(project_submissions,udacity_test_accounts)\n",
    "\n",
    "print \"\\nNumber of original enrollment records : \" , len(enrollments)\n",
    "print \"\\nNumber of  new enrollment records : \" , len(non_udacity_enrollments)"
   ]
  },
  {
   "cell_type": "code",
   "execution_count": 16,
   "metadata": {
    "collapsed": false
   },
   "outputs": [
    {
     "name": "stdout",
     "output_type": "stream",
     "text": [
      "\n",
      " number of unique students who atleast stayed at least a week 994\n",
      "\n",
      " number of daily enrollment records within one week 6912\n"
     ]
    }
   ],
   "source": [
    "paid_students = get_paid_students_dict(non_udacity_enrollments)\n",
    "\n",
    "print \"\\n number of unique students who atleast stayed at least a week\",len(paid_students)\n",
    "\n",
    "paid_enrollments = remove_free_trial_cancels(non_udacity_enrollments,paid_students)\n",
    "paid_daily_engagements = remove_free_trial_cancels(non_udacity_daily_engagements,paid_students)\n",
    "paid_project_submissions = remove_free_trial_cancels(non_udacity_project_submissions,paid_students)\n",
    "\n",
    "paid_engagements_in_first_week = list()\n",
    "for de in daily_engagement:\n",
    "    account_key = de['account_key']\n",
    "    if account_key in paid_students and within_one_week(paid_students[account_key],de['utc_date']):\n",
    "        paid_engagements_in_first_week.append(de)\n",
    "\n",
    "print \"\\n number of daily enrollment records within one week\",len(paid_engagements_in_first_week)"
   ]
  },
  {
   "cell_type": "code",
   "execution_count": 17,
   "metadata": {
    "collapsed": false
   },
   "outputs": [
    {
     "name": "stdout",
     "output_type": "stream",
     "text": [
      "\n",
      " mean :  306.519018736\n",
      " standard deviation : 413.161475346\n",
      " Minimum :  0.0\n",
      " Max :  3564.7332645\n"
     ]
    }
   ],
   "source": [
    "engagement_by_account = get_data_grouped_by_field(paid_engagements_in_first_week,'account_key')\n",
    "\n",
    "# number of total minutes that student spent in this week\n",
    "total_minutes_by_account = group_values_by_account(engagement_by_account,'total_minutes_visited')\n",
    "describe_data(total_minutes_by_account.values())"
   ]
  },
  {
   "cell_type": "code",
   "execution_count": 18,
   "metadata": {
    "collapsed": false
   },
   "outputs": [
    {
     "name": "stdout",
     "output_type": "stream",
     "text": [
      "\n",
      " mean :  1.63682092555\n",
      " standard deviation : 3.00400342436\n",
      " Minimum :  0.0\n",
      " Max :  36.0\n"
     ]
    }
   ],
   "source": [
    "# Number of courses student completed within this week\n",
    "total_lessons_completed_by_account = group_values_by_account(engagement_by_account,'lessons_completed')\n",
    "describe_data(total_lessons_completed_by_account.values())"
   ]
  },
  {
   "cell_type": "code",
   "execution_count": 19,
   "metadata": {
    "collapsed": false
   },
   "outputs": [
    {
     "name": "stdout",
     "output_type": "stream",
     "text": [
      "\n",
      " mean :  2.86317907445\n",
      " standard deviation : 2.25251756182\n",
      " Minimum :  0.0\n",
      " Max :  7.0\n"
     ]
    }
   ],
   "source": [
    "#No. of days each student has visited within this week\n",
    "days_visited_by_account = group_no_of_valid_rows_by_account(engagement_by_account,'num_courses_visited')\n",
    "describe_data(days_visited_by_account.values())"
   ]
  },
  {
   "cell_type": "code",
   "execution_count": 20,
   "metadata": {
    "collapsed": false
   },
   "outputs": [
    {
     "name": "stdout",
     "output_type": "stream",
     "text": [
      "length of passed_dict :  636\n",
      "number of passing engagement records :  4450\n",
      "number of non passing engagement records :  2462\n"
     ]
    }
   ],
   "source": [
    "subway_project_lesson_keys = [746169184, 3176718735]\n",
    "\n",
    "passed_dict = get_proj_completion_dict(paid_project_submissions,subway_project_lesson_keys)\n",
    "\n",
    "print \"length of passed_dict : \", len(passed_dict)\n",
    "\n",
    "passing_engagement = get_passing_engagementList(engagement_by_account,passed_dict,True)\n",
    "non_passing_engagement = get_passing_engagementList(engagement_by_account,passed_dict,False)\n",
    "\n",
    "print \"number of passing engagement records : \",len(passing_engagement)\n",
    "print \"number of non passing engagement records : \",len(non_passing_engagement)"
   ]
  },
  {
   "cell_type": "code",
   "execution_count": null,
   "metadata": {
    "collapsed": true
   },
   "outputs": [],
   "source": []
  }
 ],
 "metadata": {
  "kernelspec": {
   "display_name": "Python [default]",
   "language": "python",
   "name": "python2"
  },
  "language_info": {
   "codemirror_mode": {
    "name": "ipython",
    "version": 2
   },
   "file_extension": ".py",
   "mimetype": "text/x-python",
   "name": "python",
   "nbconvert_exporter": "python",
   "pygments_lexer": "ipython2",
   "version": "2.7.12"
  }
 },
 "nbformat": 4,
 "nbformat_minor": 0
}
